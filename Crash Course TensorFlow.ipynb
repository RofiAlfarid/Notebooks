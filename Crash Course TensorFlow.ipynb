{
 "cells": [
  {
   "cell_type": "code",
   "execution_count": 1,
   "metadata": {},
   "outputs": [],
   "source": [
    "import tensorflow as tf"
   ]
  },
  {
   "cell_type": "code",
   "execution_count": 2,
   "metadata": {},
   "outputs": [
    {
     "name": "stdout",
     "output_type": "stream",
     "text": [
      "30.0\n"
     ]
    }
   ],
   "source": [
    "a = tf.constant(5.0)\n",
    "b = tf.constant(6.0)\n",
    "c = a * b\n",
    "\n",
    "# Launch the graph in a session.\n",
    "sess = tf.Session()\n",
    "\n",
    "# Evaluate the tensor `c`.\n",
    "print(sess.run(c))"
   ]
  },
  {
   "cell_type": "code",
   "execution_count": 33,
   "metadata": {},
   "outputs": [
    {
     "name": "stdout",
     "output_type": "stream",
     "text": [
      "sd\n"
     ]
    }
   ],
   "source": [
    "x = tf.constant('sd')\n",
    "print(sess.run(x).decode())"
   ]
  },
  {
   "cell_type": "code",
   "execution_count": 34,
   "metadata": {},
   "outputs": [
    {
     "name": "stdout",
     "output_type": "stream",
     "text": [
      "13\n"
     ]
    }
   ],
   "source": [
    "# Create a graph.\n",
    "g = tf.Graph()\n",
    "\n",
    "# Establish the graph as the \"default\" graph.\n",
    "with g.as_default():\n",
    "  # Assemble a graph consisting of the following three operations:\n",
    "  #   * Two tf.constant operations to create the operands.\n",
    "  #   * One tf.add operation to add the two operands.\n",
    "  x = tf.constant(8, name=\"x_const\")\n",
    "  y = tf.constant(5, name=\"y_const\")\n",
    "  my_sum = tf.add(x, y, name=\"x_y_sum\")\n",
    "\n",
    "\n",
    "  # Now create a session.\n",
    "  # The session will run the default graph.\n",
    "  with tf.Session() as sess:\n",
    "    print(my_sum.eval())"
   ]
  },
  {
   "cell_type": "code",
   "execution_count": null,
   "metadata": {},
   "outputs": [],
   "source": []
  }
 ],
 "metadata": {
  "kernelspec": {
   "display_name": "Python 3",
   "language": "python",
   "name": "python3"
  },
  "language_info": {
   "codemirror_mode": {
    "name": "ipython",
    "version": 3
   },
   "file_extension": ".py",
   "mimetype": "text/x-python",
   "name": "python",
   "nbconvert_exporter": "python",
   "pygments_lexer": "ipython3",
   "version": "3.6.5"
  }
 },
 "nbformat": 4,
 "nbformat_minor": 2
}
